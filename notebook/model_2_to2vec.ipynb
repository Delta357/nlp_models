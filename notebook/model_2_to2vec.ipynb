{
  "nbformat": 4,
  "nbformat_minor": 0,
  "metadata": {
    "colab": {
      "private_outputs": true,
      "provenance": []
    },
    "kernelspec": {
      "name": "python3",
      "display_name": "Python 3"
    },
    "language_info": {
      "name": "python"
    }
  },
  "cells": [
    {
      "cell_type": "code",
      "source": [
        "!pip install top2vec"
      ],
      "metadata": {
        "id": "sUi5O-R6y4hF"
      },
      "execution_count": null,
      "outputs": []
    },
    {
      "cell_type": "code",
      "source": [
        "!pip install top2vec[sentence_encoders]"
      ],
      "metadata": {
        "id": "ey6FZ1pX18hi"
      },
      "execution_count": null,
      "outputs": []
    },
    {
      "cell_type": "code",
      "source": [
        "!pip install tensorflow tensorflow_hub tensorflow_text"
      ],
      "metadata": {
        "id": "8ubXZ7R518lk"
      },
      "execution_count": null,
      "outputs": []
    },
    {
      "cell_type": "code",
      "source": [
        "!pip install top2vec tensorflow tensorflow-hub pandas wordcloud\n"
      ],
      "metadata": {
        "id": "CPAL3Pcb2M_r"
      },
      "execution_count": null,
      "outputs": []
    },
    {
      "cell_type": "code",
      "execution_count": null,
      "metadata": {
        "id": "GOmx6-RIyvep"
      },
      "outputs": [],
      "source": [
        "import pandas as pd\n",
        "from top2vec import Top2Vec\n",
        "from wordcloud import WordCloud\n",
        "import matplotlib.pyplot as plt\n",
        "import tensorflow_hub as hub\n",
        "import numpy as np"
      ]
    },
    {
      "cell_type": "code",
      "source": [
        "df = pd.read_csv('/content/SMS_train.csv', encoding='latin1')\n",
        "texts = df['Message_body'].tolist()"
      ],
      "metadata": {
        "id": "p2FpyD7NzjqW"
      },
      "execution_count": null,
      "outputs": []
    },
    {
      "cell_type": "code",
      "source": [
        "# Criação do modelo Top2Vec\n",
        "embed_model = hub.load(\"https://tfhub.dev/google/universal-sentence-encoder/4\")"
      ],
      "metadata": {
        "id": "fCmyWLSb2R2y"
      },
      "execution_count": null,
      "outputs": []
    },
    {
      "cell_type": "code",
      "source": [
        "# Instanciar o modelo Top2Vec\n",
        "model = Top2Vec(texts, embedding_model=embed_model)"
      ],
      "metadata": {
        "id": "SQMyOmCuy2Kh"
      },
      "execution_count": null,
      "outputs": []
    },
    {
      "cell_type": "code",
      "source": [
        "# Extração dos tópicos\n",
        "topics = model.get_topics(2)\n",
        "topic_indices = [topic[0] for topic in topics]"
      ],
      "metadata": {
        "id": "dhotpO_n2Yn5"
      },
      "execution_count": null,
      "outputs": []
    },
    {
      "cell_type": "code",
      "source": [
        "# Geração da nuvem de palavras\n",
        "for i, topic in enumerate(topics):\n",
        "    topic_docs, _, _ = model.search_documents_by_topic(i, num_docs=2)\n",
        "    topic_text = ' '.join(topic_docs)\n",
        "    wordcloud = WordCloud(background_color='white').generate(topic_text)\n",
        "    plt.imshow(wordcloud, interpolation='bilinear')\n",
        "    plt.axis('off')\n",
        "    plt.show()"
      ],
      "metadata": {
        "id": "EnFngBda2Yuq"
      },
      "execution_count": null,
      "outputs": []
    }
  ]
}